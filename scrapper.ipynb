{
 "metadata": {
  "language_info": {
   "codemirror_mode": {
    "name": "ipython",
    "version": 3
   },
   "file_extension": ".py",
   "mimetype": "text/x-python",
   "name": "python",
   "nbconvert_exporter": "python",
   "pygments_lexer": "ipython3",
   "version": "3.7.7-final"
  },
  "orig_nbformat": 2,
  "kernelspec": {
   "name": "python37764bitalterationsvenvaf387e50f585470686bd09cb615064b9",
   "display_name": "Python 3.7.7 64-bit ('alterations': venv)"
  }
 },
 "nbformat": 4,
 "nbformat_minor": 2,
 "cells": [
  {
   "cell_type": "code",
   "execution_count": 326,
   "metadata": {},
   "outputs": [],
   "source": [
    "import tabula\n",
    "import os\n",
    "import pandas as pd"
   ]
  },
  {
   "cell_type": "code",
   "execution_count": 374,
   "metadata": {
    "tags": []
   },
   "outputs": [],
   "source": [
    "pdf_files = []\n",
    "\n",
    "for f in os.listdir(\"./statements/\"):\n",
    "    if not f.startswith('.'):\n",
    "        pdf_files.append(\"statements/\" + f)"
   ]
  },
  {
   "cell_type": "code",
   "execution_count": null,
   "metadata": {},
   "outputs": [],
   "source": [
    "def restructure_colums(df, column):\n",
    "    # split columns\n",
    "    temp = tables[i][column].str.split(\" \", expand=True)\n",
    "    temp.fillna(\"\", inplace=True)\n",
    "    \n",
    "    tables[i]['Date'] = temp[[0, 1]].apply(lambda x: ' '.join(temp), axis=1)\n",
    "    tables[i]['Transaction'] = temp[[2:]].apply(lambda x: ' '.join(temp), axis=1)\n",
    "    \n",
    "    table[i].drop([column], axis=1, inplace=True)"
   ]
  },
  {
   "cell_type": "code",
   "execution_count": 174,
   "metadata": {
    "tags": []
   },
   "outputs": [],
   "source": [
    "def get_tables(file, pages=\"all\", multiple_tables=True, debug=True):\n",
    "    tables = tabula.read_pdf(file, \n",
    "                             multiple_tables=multiple_tables, \n",
    "                             pages=pages, \n",
    "                             silent=debug  # suppres stdoutput\n",
    "                             )\n",
    "\n",
    "    # drop unnamed columns\n",
    "    for i in range(len(tables)):\n",
    "        tables[i].fillna(\"\", inplace=True)\n",
    "\n",
    "        if 'Balance' in tables[i].iloc[0].tolist():\n",
    "            # swap first row for headers, then drop\n",
    "            tables[i].columns = [str(i) for i in tables[i].iloc[0]]\n",
    "            tables[i] = tables[i].iloc[1:]\n",
    "\n",
    "        # drop empty columns\n",
    "        tables[i].drop(tables[i].filter(regex='Unnamed|nan').columns, axis=1, inplace=True)\n",
    "\n",
    "\n",
    "\n",
    "    # join into one table\n",
    "    frames = [f for f in tables if len(f.columns) == 5]\n",
    "    table = pd.concat(frames)\n",
    "    table.columns = [col.lower() for cols in table.columns]\n",
    "\n",
    "    # clean up the rows\n",
    "    # table.drop()\n",
    "    \n",
    "    \n",
    "    return table"
   ]
  },
  {
   "cell_type": "code",
   "execution_count": 139,
   "metadata": {},
   "outputs": [],
   "source": [
    "def get_sales(dataframe):\n",
    "    df = dataframe.fillna('x')\n",
    "    sales = df[(df[\"transaction\"].str.contains(\"POS\")) & (~df[\"amount\"].str.contains(\"-\"))]['amount'].tolist()\n",
    "    sales = [float(i[1:]) for i in sales]\n",
    "    \n",
    "    return sales"
   ]
  },
  {
   "cell_type": "code",
   "execution_count": 319,
   "metadata": {
    "tags": []
   },
   "outputs": [
    {
     "output_type": "stream",
     "name": "stdout",
     "text": "['Date', 'Transaction', 'Debit', 'Unnamed: 0', 'Credit', 'Balance']\n['Date Transaction', 'Unnamed: 0', 'Debit', 'Unnamed: 1', 'Credit', 'Balance']\n['Unnamed: 0', 'Unnamed: 1', 'Account Number', '06 2915 10304816']\n['Account Number06 2915 10304816', 'Unnamed: 0']\n\n"
    }
   ],
   "source": [
    "test = 'statements/Statement20180331.pdf'\n",
    "dfs = tabula.read_pdf(test, pages='all', multiple_tables=True, silent=True)\n",
    "\n",
    "for df in dfs:\n",
    "    print(df.columns.tolist())"
   ]
  },
  {
   "cell_type": "code",
   "execution_count": 392,
   "metadata": {
    "tags": []
   },
   "outputs": [
    {
     "output_type": "stream",
     "name": "stdout",
     "text": "['Date', 'Transaction', 'Debit', 'Credit', 'Balance']\n['Date Transaction', 'Debit', 'Credit', 'Balance']\n['Debit Credit', 'Balance', 'Date', 'Transaction']\n['Account Number06 2915 10304816']\n"
    },
    {
     "output_type": "execute_result",
     "data": {
      "text/plain": "1      $118.50\n2       $30.00\n3      $213.00\n4      $223.00\n5      $129.00\n6       $12.50\n7      $267.00\n8      $115.00\n9      $331.00\n10     $101.00\n11     $209.00\n12      $60.00\n13     $138.00\n14     $349.50\n15            \n16            \n17    1,000.00\n18      $27.00\n19     $203.00\n20            \n21            \n22      512.90\n23      $89.50\n24     $427.00\n25     $380.50\n26      $40.50\n27            \n28            \n29      198.00\n30            \n31            \n32      325.00\n33      $25.00\n34     $198.00\n35     $115.00\n36            \n37            \n38       85.00\n39            \n40            \n41      308.00\n42     $203.00\nName: 0, dtype: object"
     },
     "metadata": {},
     "execution_count": 392
    }
   ],
   "source": [
    "\n",
    "for i in range(len(dfs)):\n",
    "    if 'Balance' in dfs[i].iloc[0].tolist():\n",
    "        # swap first row for headers, then drop\n",
    "        dfs[i].columns = [str(i) for i in dfs[i].iloc[0]]\n",
    "        dfs[i] = dfs[i].iloc[1:]\n",
    "\n",
    "    # drop empty columns\n",
    "    dfs[i].drop(dfs[i].filter(regex='Unnamed|nan').columns, axis=1, inplace=True)\n",
    "\n",
    "    # n = 2\n",
    "    # groups = dfs[2]['Date Transaction'].str.split(\" \", expand=True)\n",
    "    # ' '.join(groups[:n]), ' '.join(groups[n:])\n",
    "\n",
    "for df in dfs:\n",
    "    print(df.columns.tolist())\n",
    "\n",
    "x = dfs[2]['Debit Credit'].str.split(\" \", expand=True)\n",
    "x.fillna(\"\", inplace=True)\n",
    "# dfs[2]['Debit'] = x[[0, 1]].apply(lambda x: ' '.join(x), axis=1)\n",
    "# dfs[2]['Credit'] = x[[2,3,4,5,6,7,8]].apply(lambda x: ' '.join(x), axis=1)\n",
    "# dfs[2]\n",
    "x[0]\n",
    "# dfs[2]['Debit Credit']"
   ]
  }
 ]
}