{
 "metadata": {
  "language_info": {
   "codemirror_mode": {
    "name": "ipython",
    "version": 3
   },
   "file_extension": ".py",
   "mimetype": "text/x-python",
   "name": "python",
   "nbconvert_exporter": "python",
   "pygments_lexer": "ipython3",
   "version": "3.7.7-final"
  },
  "orig_nbformat": 2,
  "kernelspec": {
   "name": "python37764bitalterationsvenvaf387e50f585470686bd09cb615064b9",
   "display_name": "Python 3.7.7 64-bit ('alterations': venv)"
  }
 },
 "nbformat": 4,
 "nbformat_minor": 2,
 "cells": [
  {
   "cell_type": "code",
   "execution_count": 9,
   "metadata": {},
   "outputs": [],
   "source": [
    "import pandas as pd\n",
    "import numpy as np\n",
    "from ofxparse import OfxParser\n",
    "import matplotlib.pyplot as plt\n",
    "import os\n",
    "import tabula\n",
    "from datetime import datetime"
   ]
  },
  {
   "cell_type": "code",
   "execution_count": 103,
   "metadata": {},
   "outputs": [],
   "source": [
    "# clean early 18 data \n",
    "test = pd.read_pickle(\"early18.pkl\")\n",
    "mon = {\"Jan\":1,\n",
    "    \"Feb\":2,\n",
    "    \"Mar\":3,\n",
    "    \"Apr\":4,\n",
    "    \"May\":5,\n",
    "    \"June\":6,\n",
    "    \"July\":7,\n",
    "    \"Aug\":8,\n",
    "    \"Sept\":9,\n",
    "    \"Oct\":10,\n",
    "    \"Nov\":11,\n",
    "    \"Dec\":12}\n",
    "test.columns = [x.lower() for x in test.columns]\n",
    "# test = test.dropna(axis=0)\n",
    "test.credit = test.credit.str[1:]\n",
    "test.credit = test.credit.fillna(0)\n",
    "test = test.fillna(\"xxx\")"
   ]
  },
  {
   "cell_type": "code",
   "execution_count": 153,
   "metadata": {},
   "outputs": [],
   "source": [
    "# datetime(2018, mon[test.Date[3:]], int(test.Date[:2]))\n",
    "# test.date = \"2018-\" + str(mon[test.Date[3:]]) + \"-\" +  test.Date[:2]\n",
    "\n",
    "\n",
    "# pos = [24, 175, 191, 194, 206, 242, 275]\n",
    "# for x in pos:\n",
    "#     test['credit'].iloc[x-1] = test['credit'].iloc[x]\n",
    "\n",
    "# test = test.drop([24, 175, 191, 194, 206, 242, 275], axis=0)\n",
    "\n",
    "test.to_csv(\"early19.csv\")"
   ]
  },
  {
   "cell_type": "code",
   "execution_count": 17,
   "metadata": {},
   "outputs": [],
   "source": [
    "# get downloaded statments\n",
    "def get_files(filetype):\n",
    "    files = []\n",
    "    for f in os.listdir('statements/'):\n",
    "        if not f.startswith('.') and (\".\" + filetype) in f: \n",
    "            files.append(\"statements/\" + f)\n",
    "    \n",
    "    return files"
   ]
  },
  {
   "cell_type": "code",
   "execution_count": 18,
   "metadata": {},
   "outputs": [],
   "source": [
    "# get tables from PDF\n",
    "def get_tables(file, pages=\"all\", multiple_tables=True, debug=True, area=()):\n",
    "    tables = tabula.read_pdf(file, \n",
    "                             multiple_tables=multiple_tables, \n",
    "                             pages=pages, \n",
    "                             silent=debug  # suppres stdoutput\n",
    "                             )\n",
    "\n",
    "    # drop unnamed columns\n",
    "    for i in range(len(tables)):\n",
    "        tables[i].fillna(\"\", inplace=True)\n",
    "\n",
    "        if 'Balance' in tables[i].iloc[0].tolist():\n",
    "            # swap first row for headers, then drop\n",
    "            tables[i].columns = [str(i) for i in tables[i].iloc[0]]\n",
    "            tables[i] = tables[i].iloc[1:]\n",
    "\n",
    "        # drop empty columns\n",
    "        tables[i].drop(tables[i].filter(regex='Unnamed|nan').columns, axis=1, inplace=True)\n",
    "\n",
    "\n",
    "\n",
    "    # join into one table\n",
    "    frames = [f for f in tables if len(f.columns) == 5]\n",
    "    table = pd.concat(frames)\n",
    "    table.columns = [col.lower() for cols in table.columns]\n",
    "\n",
    "    # clean up the rows\n",
    "    # table.drop()\n",
    "    \n",
    "    \n",
    "    return table"
   ]
  },
  {
   "cell_type": "code",
   "execution_count": 19,
   "metadata": {},
   "outputs": [],
   "source": [
    "# returnt he transaction from .ofx file type\n",
    "def get_transactions(filename):\n",
    "    with open(filename) as f:\n",
    "        ofx = OfxParser.parse(f)\n",
    "\n",
    "    account = ofx.account\n",
    "    statement = account.statement\n",
    "    transactions = statement.transactions\n",
    "\n",
    "    return transactions"
   ]
  },
  {
   "cell_type": "code",
   "execution_count": 20,
   "metadata": {
    "tags": []
   },
   "outputs": [],
   "source": [
    "# build dataframe\n",
    "df = pd.DataFrame(columns=['date', 'year', 'month', 'day', 'description', 'debit', 'credit'])\n",
    "\n",
    "files = get_files(\"ofx\")\n",
    "\n",
    "for f in files:\n",
    "    for t in get_transactions(f):\n",
    "        debit = t.amount if t.type == \"debit\" else 0\n",
    "        credit = t.amount if t.type == \"credit\" else 0\n",
    "        new = {'date':t.date, 'year': t.date.year, 'month': t.date.month, 'day': t.date.day, 'description': t.memo, 'debit': debit, 'credit': credit}\n",
    "        \n",
    "        df = df.append(new, ignore_index=True)\n",
    "\n",
    "df = df.astype({\"description\": str, \"debit\": float, \"credit\": float})"
   ]
  },
  {
   "cell_type": "code",
   "execution_count": 155,
   "metadata": {},
   "outputs": [],
   "source": [
    "# save the data frame for analysis\n",
    "x = pd.read_pickle(\"./mid18_20.pkl\")"
   ]
  },
  {
   "cell_type": "code",
   "execution_count": 164,
   "metadata": {},
   "outputs": [
    {
     "output_type": "execute_result",
     "data": {
      "text/plain": "        date                transaction  debit  credit\n0    11/1/18       2018 OPENING BALANCE    0.0     0.0\n1    18/1/18        POS 15533600 18 JAN    0.0   188.0\n2    19/1/18        POS 15533600 19 JAN    0.0    75.0\n3    20/1/18        POS 15533600 20 JAN    0.0   359.0\n4    21/1/18        POS 15533600 21 JAN    0.0   230.0\n..       ...                        ...    ...     ...\n186  17/7/18        POS 15533600 17 JUL    0.0   385.0\n187  18/7/18        POS 15533600 18 JUL    0.0   214.0\n188  19/7/18  Direct Credit 403697 AMEX    0.0    61.0\n189  19/7/18        POS 15533600 19 JUL    0.0   376.0\n190  20/7/18        POS 15533600 20 JUL    0.0   381.0\n\n[191 rows x 4 columns]",
      "text/html": "<div>\n<style scoped>\n    .dataframe tbody tr th:only-of-type {\n        vertical-align: middle;\n    }\n\n    .dataframe tbody tr th {\n        vertical-align: top;\n    }\n\n    .dataframe thead th {\n        text-align: right;\n    }\n</style>\n<table border=\"1\" class=\"dataframe\">\n  <thead>\n    <tr style=\"text-align: right;\">\n      <th></th>\n      <th>date</th>\n      <th>transaction</th>\n      <th>debit</th>\n      <th>credit</th>\n    </tr>\n  </thead>\n  <tbody>\n    <tr>\n      <th>0</th>\n      <td>11/1/18</td>\n      <td>2018 OPENING BALANCE</td>\n      <td>0.0</td>\n      <td>0.0</td>\n    </tr>\n    <tr>\n      <th>1</th>\n      <td>18/1/18</td>\n      <td>POS 15533600 18 JAN</td>\n      <td>0.0</td>\n      <td>188.0</td>\n    </tr>\n    <tr>\n      <th>2</th>\n      <td>19/1/18</td>\n      <td>POS 15533600 19 JAN</td>\n      <td>0.0</td>\n      <td>75.0</td>\n    </tr>\n    <tr>\n      <th>3</th>\n      <td>20/1/18</td>\n      <td>POS 15533600 20 JAN</td>\n      <td>0.0</td>\n      <td>359.0</td>\n    </tr>\n    <tr>\n      <th>4</th>\n      <td>21/1/18</td>\n      <td>POS 15533600 21 JAN</td>\n      <td>0.0</td>\n      <td>230.0</td>\n    </tr>\n    <tr>\n      <th>...</th>\n      <td>...</td>\n      <td>...</td>\n      <td>...</td>\n      <td>...</td>\n    </tr>\n    <tr>\n      <th>186</th>\n      <td>17/7/18</td>\n      <td>POS 15533600 17 JUL</td>\n      <td>0.0</td>\n      <td>385.0</td>\n    </tr>\n    <tr>\n      <th>187</th>\n      <td>18/7/18</td>\n      <td>POS 15533600 18 JUL</td>\n      <td>0.0</td>\n      <td>214.0</td>\n    </tr>\n    <tr>\n      <th>188</th>\n      <td>19/7/18</td>\n      <td>Direct Credit 403697 AMEX</td>\n      <td>0.0</td>\n      <td>61.0</td>\n    </tr>\n    <tr>\n      <th>189</th>\n      <td>19/7/18</td>\n      <td>POS 15533600 19 JUL</td>\n      <td>0.0</td>\n      <td>376.0</td>\n    </tr>\n    <tr>\n      <th>190</th>\n      <td>20/7/18</td>\n      <td>POS 15533600 20 JUL</td>\n      <td>0.0</td>\n      <td>381.0</td>\n    </tr>\n  </tbody>\n</table>\n<p>191 rows × 4 columns</p>\n</div>"
     },
     "metadata": {},
     "execution_count": 164
    }
   ],
   "source": [
    "y = pd.read_csv(\"early19.csv\")\n",
    "y"
   ]
  }
 ]
}