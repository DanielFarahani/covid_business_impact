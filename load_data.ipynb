{
 "metadata": {
  "language_info": {
   "codemirror_mode": {
    "name": "ipython",
    "version": 3
   },
   "file_extension": ".py",
   "mimetype": "text/x-python",
   "name": "python",
   "nbconvert_exporter": "python",
   "pygments_lexer": "ipython3",
   "version": "3.7.7-final"
  },
  "orig_nbformat": 2,
  "kernelspec": {
   "name": "python37764bitalterationsvenvaf387e50f585470686bd09cb615064b9",
   "display_name": "Python 3.7.7 64-bit ('alterations': venv)"
  }
 },
 "nbformat": 4,
 "nbformat_minor": 2,
 "cells": [
  {
   "cell_type": "code",
   "execution_count": 1,
   "metadata": {},
   "outputs": [],
   "source": [
    "import pandas as pd\n",
    "import numpy as np\n",
    "from ofxparse import OfxParser\n",
    "import matplotlib.pyplot as plt\n",
    "import os\n",
    "import tabula\n",
    "from datetime import datetime"
   ]
  },
  {
   "cell_type": "code",
   "execution_count": 2,
   "metadata": {},
   "outputs": [],
   "source": [
    "# get downloaded statments\n",
    "def get_files(filetype):\n",
    "    files = []\n",
    "    for f in os.listdir('statements/'):\n",
    "        if not f.startswith('.') and (\".\" + filetype) in f: \n",
    "            files.append(\"statements/\" + f)\n",
    "    \n",
    "    return files"
   ]
  },
  {
   "cell_type": "code",
   "execution_count": 3,
   "metadata": {},
   "outputs": [],
   "source": [
    "# returnt he transaction from .ofx file type\n",
    "def get_transactions(filename):\n",
    "    with open(filename) as f:\n",
    "        ofx = OfxParser.parse(f)\n",
    "\n",
    "    account = ofx.account\n",
    "    statement = account.statement\n",
    "    transactions = statement.transactions\n",
    "\n",
    "    return transactions"
   ]
  },
  {
   "cell_type": "code",
   "execution_count": 4,
   "metadata": {
    "tags": []
   },
   "outputs": [],
   "source": [
    "# build dataframe\n",
    "df = pd.DataFrame(columns=['date', 'year', 'month', 'day', 'description', 'debit', 'credit'])\n",
    "\n",
    "files = get_files(\"ofx\")\n",
    "\n",
    "for f in files:\n",
    "    for t in get_transactions(f):\n",
    "        debit = t.amount if t.type == \"debit\" else 0\n",
    "        credit = t.amount if t.type == \"credit\" else 0\n",
    "        new = {'date':t.date, 'year': t.date.year, 'month': t.date.month, 'day': t.date.day, 'description': t.memo, 'debit': debit, 'credit': credit}\n",
    "        \n",
    "        df = df.append(new, ignore_index=True)\n",
    "\n",
    "df = df.astype({\"description\": str, \"debit\": float, \"credit\": float})"
   ]
  },
  {
   "cell_type": "code",
   "execution_count": 50,
   "metadata": {},
   "outputs": [],
   "source": [
    "df.to_pickle(\"transactions.pkl\")"
   ]
  }
 ]
}