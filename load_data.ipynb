{
 "metadata": {
  "language_info": {
   "codemirror_mode": {
    "name": "ipython",
    "version": 3
   },
   "file_extension": ".py",
   "mimetype": "text/x-python",
   "name": "python",
   "nbconvert_exporter": "python",
   "pygments_lexer": "ipython3",
   "version": "3.7.7-final"
  },
  "orig_nbformat": 2,
  "kernelspec": {
   "name": "python37764bitalterationsvenvaf387e50f585470686bd09cb615064b9",
   "display_name": "Python 3.7.7 64-bit ('alterations': venv)"
  }
 },
 "nbformat": 4,
 "nbformat_minor": 2,
 "cells": [
  {
   "cell_type": "code",
   "execution_count": 2,
   "metadata": {},
   "outputs": [],
   "source": [
    "import pandas as pd\n",
    "import numpy as np\n",
    "from ofxparse import OfxParser\n",
    "import matplotlib.pyplot as plt\n",
    "import os\n",
    "import tabula"
   ]
  },
  {
   "cell_type": "code",
   "execution_count": 14,
   "metadata": {
    "tags": []
   },
   "outputs": [
    {
     "output_type": "stream",
     "name": "stdout",
     "text": "Index(['Date', 'Transaction', 'Debit', 'Unnamed: 0', 'Credit', 'Balance'], dtype='object')\nIndex(['Date Transaction', 'Unnamed: 0', 'Debit', 'Unnamed: 1', 'Credit',\n       'Balance'],\n      dtype='object')\nIndex(['Date Transaction', 'Unnamed: 0', 'Debit', 'Unnamed: 1', 'Credit',\n       'Balanc'],\n      dtype='object')\n"
    }
   ],
   "source": [
    "path = \"statements/Statement_jan11_mar31.pdf\"\n",
    "# statements/Statement_apr01_jun30.pdf\n",
    "# statements/Statement_jul01_sep30.pdf  \n",
    "\n",
    "df1 = tabula.read_pdf(path, area=(426, 57, 784, 541), pages=1, silent=True)[0]\n",
    "df2 = tabula.read_pdf(path, area=(207, 57, 774, 541), pages=2, silent=True)[0]\n",
    "df3 = tabula.read_pdf(path, area=(102, 57, 708, 539), pages=3, silent=True)[0]\n",
    "\n",
    "print(df1.columns)\n",
    "print(df2.columns)\n",
    "print(df3.columns)\n"
   ]
  },
  {
   "cell_type": "code",
   "execution_count": 25,
   "metadata": {
    "tags": []
   },
   "outputs": [
    {
     "output_type": "stream",
     "name": "stdout",
     "text": "Index(['Date', 'Transaction', 'Debit', 'Credit'], dtype='object')\nIndex(['Date Transaction', 'Debit', 'Credit'], dtype='object')\nIndex(['Date Transaction', 'Debit', 'Credit', 'Balanc'], dtype='object')\n"
    }
   ],
   "source": [
    "df1 = df1.fillna(0)\n",
    "df2 = df2.fillna(0)\n",
    "df3 = df3.fillna(0)\n",
    "\n",
    "try:\n",
    "    df1 = df1.drop(df1.filter(regex='Unnamed').columns, axis=1)\n",
    "    df2 = df2.drop(df2.filter(regex='Unnamed').columns, axis=1)\n",
    "    df3 = df3.drop(df3.filter(regex='Unnamed').columns, axis=1)\n",
    "except:\n",
    "    pass\n",
    "\n",
    "try:\n",
    "    df1 = df1.drop('Balance', axis=1)\n",
    "    df2 = df2.drop('Balance', axis=1)\n",
    "    df3 = df3.drop('Balance', axis=1)\n",
    "except:\n",
    "    pass\n",
    "\n",
    "print(df1.columns)\n",
    "print(df2.columns)\n",
    "print(df3.columns)\n"
   ]
  },
  {
   "cell_type": "code",
   "execution_count": 19,
   "metadata": {},
   "outputs": [
    {
     "output_type": "execute_result",
     "data": {
      "text/plain": "                             Date Transaction     Debit   Credit       Balanc\n0                  07 Mar POS 15533600 07 MAR         0  $118.50    $994.13 C\n1                  08 Mar POS 15533600 08 MAR         0   $30.00  $1,024.13 C\n2                  09 Mar POS 15533600 09 MAR         0  $213.00  $1,237.13 C\n3                  10 Mar POS 15533600 10 MAR         0  $223.00  $1,460.13 C\n4                  11 Mar POS 15533600 11 MAR         0  $129.00  $1,589.13 C\n5                  12 Mar POS 15533600 12 MAR         0   $12.50  $1,601.63 C\n6                  13 Mar POS 15533600 13 MAR         0  $267.00  $1,868.63 C\n7                  14 Mar POS 15533600 14 MAR         0  $115.00  $1,983.63 C\n8                  15 Mar POS 15533600 15 MAR         0  $331.00  $2,314.63 C\n9                  16 Mar POS 15533600 16 MAR         0  $101.00  $2,415.63 C\n10                 17 Mar POS 15533600 17 MAR         0  $209.00  $2,624.63 C\n11                 18 Mar POS 15533600 18 MAR         0   $60.00  $2,684.63 C\n12                 19 Mar POS 15533600 19 MAR         0  $138.00  $2,822.63 C\n13                 20 Mar POS 15533600 20 MAR         0  $349.50  $3,172.13 C\n14         21 Mar CHOICE MITCHELL MITCHELL AU         0        0            0\n15                                Card xx1044         0        0            0\n16                     Value Date: 17/03/2018  1,000.00        0  $2,172.13 C\n17                 21 Mar POS 15533600 21 MAR         0   $27.00  $2,199.13 C\n18                 22 Mar POS 15533600 22 MAR         0  $203.00  $2,402.13 C\n19  23 Mar ACCESS CANB SHOPFRONT GUNGAHLIN AU         0        0            0\n20                                Card xx1044         0        0            0\n21                     Value Date: 20/03/2018    512.90        0  $1,889.23 C\n22                 23 Mar POS 15533600 23 MAR         0   $89.50  $1,978.73 C\n23                 24 Mar POS 15533600 24 MAR         0  $427.00  $2,405.73 C\n24                 25 Mar POS 15533600 25 MAR         0  $380.50  $2,786.23 C\n25                 26 Mar POS 15533600 26 MAR         0   $40.50  $2,826.73 C\n26    27 Mar HEATING COOLING SRVC FYSHWICK AU         0        0            0\n27                                Card xx1044         0        0            0\n28                     Value Date: 22/03/2018    198.00        0  $2,628.73 C\n29      27 Mar GUI & TONG PTY LTD FYSHWICK AU         0        0            0\n30                                Card xx1044         0        0            0\n31                     Value Date: 22/03/2018    325.00        0  $2,303.73 C\n32                 27 Mar POS 15533600 27 MAR         0   $25.00  $2,328.73 C\n33                 28 Mar POS 15533600 28 MAR         0  $198.00  $2,526.73 C\n34                 29 Mar POS 15533600 29 MAR         0  $115.00  $2,641.73 C\n35    30 Mar BEACON LIGHTING 130 GUNGAHLIN AU         0        0            0\n36                                Card xx1044         0        0            0\n37                     Value Date: 27/03/2018     85.00        0  $2,556.73 C\n38    30 Mar BEACON LIGHTING 130 GUNGAHLIN AU         0        0            0\n39                                Card xx1044         0        0            0\n40                     Value Date: 27/03/2018    308.00        0  $2,248.73 C\n41                 31 Mar POS 15533600 31 MAR         0  $203.00  $2,451.73 C\n42                31 Mar 2018 CLOSING BALANCE         0        0  $2,451.73 C",
      "text/html": "<div>\n<style scoped>\n    .dataframe tbody tr th:only-of-type {\n        vertical-align: middle;\n    }\n\n    .dataframe tbody tr th {\n        vertical-align: top;\n    }\n\n    .dataframe thead th {\n        text-align: right;\n    }\n</style>\n<table border=\"1\" class=\"dataframe\">\n  <thead>\n    <tr style=\"text-align: right;\">\n      <th></th>\n      <th>Date Transaction</th>\n      <th>Debit</th>\n      <th>Credit</th>\n      <th>Balanc</th>\n    </tr>\n  </thead>\n  <tbody>\n    <tr>\n      <th>0</th>\n      <td>07 Mar POS 15533600 07 MAR</td>\n      <td>0</td>\n      <td>$118.50</td>\n      <td>$994.13 C</td>\n    </tr>\n    <tr>\n      <th>1</th>\n      <td>08 Mar POS 15533600 08 MAR</td>\n      <td>0</td>\n      <td>$30.00</td>\n      <td>$1,024.13 C</td>\n    </tr>\n    <tr>\n      <th>2</th>\n      <td>09 Mar POS 15533600 09 MAR</td>\n      <td>0</td>\n      <td>$213.00</td>\n      <td>$1,237.13 C</td>\n    </tr>\n    <tr>\n      <th>3</th>\n      <td>10 Mar POS 15533600 10 MAR</td>\n      <td>0</td>\n      <td>$223.00</td>\n      <td>$1,460.13 C</td>\n    </tr>\n    <tr>\n      <th>4</th>\n      <td>11 Mar POS 15533600 11 MAR</td>\n      <td>0</td>\n      <td>$129.00</td>\n      <td>$1,589.13 C</td>\n    </tr>\n    <tr>\n      <th>5</th>\n      <td>12 Mar POS 15533600 12 MAR</td>\n      <td>0</td>\n      <td>$12.50</td>\n      <td>$1,601.63 C</td>\n    </tr>\n    <tr>\n      <th>6</th>\n      <td>13 Mar POS 15533600 13 MAR</td>\n      <td>0</td>\n      <td>$267.00</td>\n      <td>$1,868.63 C</td>\n    </tr>\n    <tr>\n      <th>7</th>\n      <td>14 Mar POS 15533600 14 MAR</td>\n      <td>0</td>\n      <td>$115.00</td>\n      <td>$1,983.63 C</td>\n    </tr>\n    <tr>\n      <th>8</th>\n      <td>15 Mar POS 15533600 15 MAR</td>\n      <td>0</td>\n      <td>$331.00</td>\n      <td>$2,314.63 C</td>\n    </tr>\n    <tr>\n      <th>9</th>\n      <td>16 Mar POS 15533600 16 MAR</td>\n      <td>0</td>\n      <td>$101.00</td>\n      <td>$2,415.63 C</td>\n    </tr>\n    <tr>\n      <th>10</th>\n      <td>17 Mar POS 15533600 17 MAR</td>\n      <td>0</td>\n      <td>$209.00</td>\n      <td>$2,624.63 C</td>\n    </tr>\n    <tr>\n      <th>11</th>\n      <td>18 Mar POS 15533600 18 MAR</td>\n      <td>0</td>\n      <td>$60.00</td>\n      <td>$2,684.63 C</td>\n    </tr>\n    <tr>\n      <th>12</th>\n      <td>19 Mar POS 15533600 19 MAR</td>\n      <td>0</td>\n      <td>$138.00</td>\n      <td>$2,822.63 C</td>\n    </tr>\n    <tr>\n      <th>13</th>\n      <td>20 Mar POS 15533600 20 MAR</td>\n      <td>0</td>\n      <td>$349.50</td>\n      <td>$3,172.13 C</td>\n    </tr>\n    <tr>\n      <th>14</th>\n      <td>21 Mar CHOICE MITCHELL MITCHELL AU</td>\n      <td>0</td>\n      <td>0</td>\n      <td>0</td>\n    </tr>\n    <tr>\n      <th>15</th>\n      <td>Card xx1044</td>\n      <td>0</td>\n      <td>0</td>\n      <td>0</td>\n    </tr>\n    <tr>\n      <th>16</th>\n      <td>Value Date: 17/03/2018</td>\n      <td>1,000.00</td>\n      <td>0</td>\n      <td>$2,172.13 C</td>\n    </tr>\n    <tr>\n      <th>17</th>\n      <td>21 Mar POS 15533600 21 MAR</td>\n      <td>0</td>\n      <td>$27.00</td>\n      <td>$2,199.13 C</td>\n    </tr>\n    <tr>\n      <th>18</th>\n      <td>22 Mar POS 15533600 22 MAR</td>\n      <td>0</td>\n      <td>$203.00</td>\n      <td>$2,402.13 C</td>\n    </tr>\n    <tr>\n      <th>19</th>\n      <td>23 Mar ACCESS CANB SHOPFRONT GUNGAHLIN AU</td>\n      <td>0</td>\n      <td>0</td>\n      <td>0</td>\n    </tr>\n    <tr>\n      <th>20</th>\n      <td>Card xx1044</td>\n      <td>0</td>\n      <td>0</td>\n      <td>0</td>\n    </tr>\n    <tr>\n      <th>21</th>\n      <td>Value Date: 20/03/2018</td>\n      <td>512.90</td>\n      <td>0</td>\n      <td>$1,889.23 C</td>\n    </tr>\n    <tr>\n      <th>22</th>\n      <td>23 Mar POS 15533600 23 MAR</td>\n      <td>0</td>\n      <td>$89.50</td>\n      <td>$1,978.73 C</td>\n    </tr>\n    <tr>\n      <th>23</th>\n      <td>24 Mar POS 15533600 24 MAR</td>\n      <td>0</td>\n      <td>$427.00</td>\n      <td>$2,405.73 C</td>\n    </tr>\n    <tr>\n      <th>24</th>\n      <td>25 Mar POS 15533600 25 MAR</td>\n      <td>0</td>\n      <td>$380.50</td>\n      <td>$2,786.23 C</td>\n    </tr>\n    <tr>\n      <th>25</th>\n      <td>26 Mar POS 15533600 26 MAR</td>\n      <td>0</td>\n      <td>$40.50</td>\n      <td>$2,826.73 C</td>\n    </tr>\n    <tr>\n      <th>26</th>\n      <td>27 Mar HEATING COOLING SRVC FYSHWICK AU</td>\n      <td>0</td>\n      <td>0</td>\n      <td>0</td>\n    </tr>\n    <tr>\n      <th>27</th>\n      <td>Card xx1044</td>\n      <td>0</td>\n      <td>0</td>\n      <td>0</td>\n    </tr>\n    <tr>\n      <th>28</th>\n      <td>Value Date: 22/03/2018</td>\n      <td>198.00</td>\n      <td>0</td>\n      <td>$2,628.73 C</td>\n    </tr>\n    <tr>\n      <th>29</th>\n      <td>27 Mar GUI &amp; TONG PTY LTD FYSHWICK AU</td>\n      <td>0</td>\n      <td>0</td>\n      <td>0</td>\n    </tr>\n    <tr>\n      <th>30</th>\n      <td>Card xx1044</td>\n      <td>0</td>\n      <td>0</td>\n      <td>0</td>\n    </tr>\n    <tr>\n      <th>31</th>\n      <td>Value Date: 22/03/2018</td>\n      <td>325.00</td>\n      <td>0</td>\n      <td>$2,303.73 C</td>\n    </tr>\n    <tr>\n      <th>32</th>\n      <td>27 Mar POS 15533600 27 MAR</td>\n      <td>0</td>\n      <td>$25.00</td>\n      <td>$2,328.73 C</td>\n    </tr>\n    <tr>\n      <th>33</th>\n      <td>28 Mar POS 15533600 28 MAR</td>\n      <td>0</td>\n      <td>$198.00</td>\n      <td>$2,526.73 C</td>\n    </tr>\n    <tr>\n      <th>34</th>\n      <td>29 Mar POS 15533600 29 MAR</td>\n      <td>0</td>\n      <td>$115.00</td>\n      <td>$2,641.73 C</td>\n    </tr>\n    <tr>\n      <th>35</th>\n      <td>30 Mar BEACON LIGHTING 130 GUNGAHLIN AU</td>\n      <td>0</td>\n      <td>0</td>\n      <td>0</td>\n    </tr>\n    <tr>\n      <th>36</th>\n      <td>Card xx1044</td>\n      <td>0</td>\n      <td>0</td>\n      <td>0</td>\n    </tr>\n    <tr>\n      <th>37</th>\n      <td>Value Date: 27/03/2018</td>\n      <td>85.00</td>\n      <td>0</td>\n      <td>$2,556.73 C</td>\n    </tr>\n    <tr>\n      <th>38</th>\n      <td>30 Mar BEACON LIGHTING 130 GUNGAHLIN AU</td>\n      <td>0</td>\n      <td>0</td>\n      <td>0</td>\n    </tr>\n    <tr>\n      <th>39</th>\n      <td>Card xx1044</td>\n      <td>0</td>\n      <td>0</td>\n      <td>0</td>\n    </tr>\n    <tr>\n      <th>40</th>\n      <td>Value Date: 27/03/2018</td>\n      <td>308.00</td>\n      <td>0</td>\n      <td>$2,248.73 C</td>\n    </tr>\n    <tr>\n      <th>41</th>\n      <td>31 Mar POS 15533600 31 MAR</td>\n      <td>0</td>\n      <td>$203.00</td>\n      <td>$2,451.73 C</td>\n    </tr>\n    <tr>\n      <th>42</th>\n      <td>31 Mar 2018 CLOSING BALANCE</td>\n      <td>0</td>\n      <td>0</td>\n      <td>$2,451.73 C</td>\n    </tr>\n  </tbody>\n</table>\n</div>"
     },
     "metadata": {},
     "execution_count": 19
    }
   ],
   "source": [
    "df3"
   ]
  },
  {
   "cell_type": "code",
   "execution_count": 35,
   "metadata": {},
   "outputs": [],
   "source": [
    "# get downloaded statments\n",
    "def get_files(filetype):\n",
    "    files = []\n",
    "    for f in os.listdir('statements/'):\n",
    "        if not f.startswith('.') and (\".\" + filetype) in f: \n",
    "            files.append(\"statements/\" + f)\n",
    "    \n",
    "    return files"
   ]
  },
  {
   "cell_type": "code",
   "execution_count": null,
   "metadata": {},
   "outputs": [],
   "source": [
    "# get tables from PDF\n",
    "def get_tables(file, pages=\"all\", multiple_tables=True, debug=True, area=()):\n",
    "    tables = tabula.read_pdf(file, \n",
    "                             multiple_tables=multiple_tables, \n",
    "                             pages=pages, \n",
    "                             silent=debug  # suppres stdoutput\n",
    "                             )\n",
    "\n",
    "    # drop unnamed columns\n",
    "    for i in range(len(tables)):\n",
    "        tables[i].fillna(\"\", inplace=True)\n",
    "\n",
    "        if 'Balance' in tables[i].iloc[0].tolist():\n",
    "            # swap first row for headers, then drop\n",
    "            tables[i].columns = [str(i) for i in tables[i].iloc[0]]\n",
    "            tables[i] = tables[i].iloc[1:]\n",
    "\n",
    "        # drop empty columns\n",
    "        tables[i].drop(tables[i].filter(regex='Unnamed|nan').columns, axis=1, inplace=True)\n",
    "\n",
    "\n",
    "\n",
    "    # join into one table\n",
    "    frames = [f for f in tables if len(f.columns) == 5]\n",
    "    table = pd.concat(frames)\n",
    "    table.columns = [col.lower() for cols in table.columns]\n",
    "\n",
    "    # clean up the rows\n",
    "    # table.drop()\n",
    "    \n",
    "    \n",
    "    return table"
   ]
  },
  {
   "cell_type": "code",
   "execution_count": 3,
   "metadata": {},
   "outputs": [],
   "source": [
    "# returnt he transaction from .ofx file type\n",
    "def get_transactions(filename):\n",
    "    with open(filename) as f:\n",
    "        ofx = OfxParser.parse(f)\n",
    "\n",
    "    account = ofx.account\n",
    "    statement = account.statement\n",
    "    transactions = statement.transactions\n",
    "\n",
    "    return transactions"
   ]
  },
  {
   "cell_type": "code",
   "execution_count": 4,
   "metadata": {
    "tags": []
   },
   "outputs": [],
   "source": [
    "# build dataframe\n",
    "df = pd.DataFrame(columns=['date', 'year', 'month', 'day', 'description', 'debit', 'credit'])\n",
    "\n",
    "files = get_files(\"ofx\")\n",
    "\n",
    "for f in files:\n",
    "    for t in get_transactions(f):\n",
    "        debit = t.amount if t.type == \"debit\" else 0\n",
    "        credit = t.amount if t.type == \"credit\" else 0\n",
    "        new = {'date':t.date, 'year': t.date.year, 'month': t.date.month, 'day': t.date.day, 'description': t.memo, 'debit': debit, 'credit': credit}\n",
    "        \n",
    "        df = df.append(new, ignore_index=True)\n",
    "\n",
    "df = df.astype({\"description\": str, \"debit\": float, \"credit\": float})"
   ]
  },
  {
   "cell_type": "code",
   "execution_count": null,
   "metadata": {},
   "outputs": [],
   "source": [
    "# save the data frame for analysis\n",
    "df.to_pickle(\"./transaction_2018_current.pkl\")\n",
    "\n"
   ]
  }
 ]
}