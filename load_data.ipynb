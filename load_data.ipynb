{
 "metadata": {
  "language_info": {
   "codemirror_mode": {
    "name": "ipython",
    "version": 3
   },
   "file_extension": ".py",
   "mimetype": "text/x-python",
   "name": "python",
   "nbconvert_exporter": "python",
   "pygments_lexer": "ipython3",
   "version": "3.7.7-final"
  },
  "orig_nbformat": 2,
  "kernelspec": {
   "name": "python37764bitalterationsvenvaf387e50f585470686bd09cb615064b9",
   "display_name": "Python 3.7.7 64-bit ('alterations': venv)"
  }
 },
 "nbformat": 4,
 "nbformat_minor": 2,
 "cells": [
  {
   "cell_type": "code",
   "execution_count": 1,
   "metadata": {},
   "outputs": [],
   "source": [
    "import pandas as pd\n",
    "import numpy as np\n",
    "from ofxparse import OfxParser\n",
    "from datetime import datetime"
   ]
  },
  {
   "cell_type": "code",
   "execution_count": 2,
   "metadata": {},
   "outputs": [],
   "source": [
    "# get downloaded statments\n",
    "def get_files(filetype):\n",
    "    files = []\n",
    "    for f in os.listdir('statements/'):\n",
    "        if not f.startswith('.') and (\".\" + filetype) in f: \n",
    "            files.append(\"statements/\" + f)\n",
    "    \n",
    "    return files"
   ]
  },
  {
   "cell_type": "code",
   "execution_count": 3,
   "metadata": {},
   "outputs": [],
   "source": [
    "# returnt he transaction from .ofx file type\n",
    "def get_transactions(filename):\n",
    "    with open(filename) as f:\n",
    "        ofx = OfxParser.parse(f)\n",
    "\n",
    "    account = ofx.account\n",
    "    statement = account.statement\n",
    "    transactions = statement.transactions\n",
    "\n",
    "    return transactions"
   ]
  },
  {
   "cell_type": "code",
   "execution_count": 4,
   "metadata": {
    "tags": []
   },
   "outputs": [],
   "source": [
    "# build dataframe\n",
    "df = pd.DataFrame(columns=['date', 'year', 'month', 'day', 'description', 'debit', 'credit'])\n",
    "\n",
    "files = get_files(\"ofx\")\n",
    "\n",
    "for f in files:\n",
    "    for t in get_transactions(f):\n",
    "        debit = t.amount if t.type == \"debit\" else 0\n",
    "        credit = t.amount if t.type == \"credit\" else 0\n",
    "        new = {'date':t.date, 'year': t.date.year, 'month': t.date.month, 'day': t.date.day, 'description': t.memo, 'debit': debit, 'credit': credit}\n",
    "        \n",
    "        df = df.append(new, ignore_index=True)\n",
    "\n",
    "df = df.astype({\"description\": str, \"debit\": float, \"credit\": float})"
   ]
  },
  {
   "cell_type": "code",
   "execution_count": 9,
   "metadata": {},
   "outputs": [],
   "source": [
    "temp = pd.read_csv(\"zArchive/early18.csv\")"
   ]
  },
  {
   "cell_type": "code",
   "execution_count": 12,
   "metadata": {},
   "outputs": [],
   "source": [
    "temp.columns = [i.lower() for i in temp.columns]"
   ]
  },
  {
   "cell_type": "code",
   "execution_count": 32,
   "metadata": {},
   "outputs": [],
   "source": [
    "order = [0,4,5,6,1,2,3]\n",
    "temp = temp[[temp.columns[i] for i in order]]\n",
    "temp.columns = df.columns"
   ]
  },
  {
   "cell_type": "code",
   "execution_count": 40,
   "metadata": {},
   "outputs": [],
   "source": [
    "df = df.sort_values('date')"
   ]
  },
  {
   "cell_type": "code",
   "execution_count": 33,
   "metadata": {},
   "outputs": [],
   "source": [
    "temp.to_pickle(\"merge.pkl\")"
   ]
  },
  {
   "cell_type": "code",
   "execution_count": 43,
   "metadata": {},
   "outputs": [],
   "source": [
    "x = pd.concat([temp, df], ignore_index=True)"
   ]
  },
  {
   "cell_type": "code",
   "execution_count": 54,
   "metadata": {},
   "outputs": [],
   "source": [
    "temp.to_csv(\"18.csv\")\n",
    "df.to_csv(\"rest.csv\")"
   ]
  },
  {
   "cell_type": "code",
   "execution_count": 62,
   "metadata": {},
   "outputs": [],
   "source": [
    "x1 = pd.read_csv(\"18.csv\")\n",
    "x2 = pd.read_csv(\"rest.csv\")"
   ]
  },
  {
   "cell_type": "code",
   "execution_count": 63,
   "metadata": {},
   "outputs": [],
   "source": [
    "final = pd.concat([x1, x2], ignore_index=True)"
   ]
  },
  {
   "cell_type": "code",
   "execution_count": 67,
   "metadata": {},
   "outputs": [],
   "source": [
    "final.to_pickle(\"transactions.pkl\")"
   ]
  }
 ]
}